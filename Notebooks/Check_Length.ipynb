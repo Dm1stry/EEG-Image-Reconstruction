{
 "cells": [
  {
   "cell_type": "code",
   "execution_count": 1,
   "id": "31e5508e-2e79-42f1-923a-8094a9b2200b",
   "metadata": {},
   "outputs": [],
   "source": [
    "import pandas as pd \n",
    "import os\n",
    "import json\n",
    "import mne\n",
    "\n",
    "os.chdir('..')"
   ]
  },
  {
   "cell_type": "code",
   "execution_count": 2,
   "id": "1a170700-2935-4a71-8a60-49d7cb076089",
   "metadata": {},
   "outputs": [
    {
     "name": "stdout",
     "output_type": "stream",
     "text": [
      "Expected: \t 1548 sec. \t 25.80 min. \n",
      "Got EEG: \t 1362 sec. \t 22.70 min.\n",
      "Got Eyetracker:  1583 sec. \t 26.38 min.\n"
     ]
    }
   ],
   "source": [
    "properties_path = 'Datasets/S_0_Sanya_Test/Trial_1/properties.json'\n",
    "datablocks_path = 'Datasets/S_0_Sanya_Test/Trial_1/datablocks.csv'\n",
    "eyetracker_path = 'Datasets/S_0_Sanya_Test/Trial_1/alex.asc'\n",
    "experiment_path = 'Datasets/S_0_Sanya_Test/Trial_1/experiment_2.json'\n",
    "\n",
    "with open(properties_path,'r') as f:\n",
    "    props = json.load(f)\n",
    "sr = props['sampling_interval']\n",
    "chan_names  = props['channel_names']\n",
    "\n",
    "with open(experiment_path,'r') as f:\n",
    "    experiment_seq = json.load(f)\n",
    "\n",
    "eye_raw = mne.io.read_raw_eyelink(eyetracker_path, verbose=False)\n",
    "eye_len = int(len(eye_raw) / sr)\n",
    "\n",
    "eeg_df = pd.read_csv(datablocks_path, header=None, names=['block_id']+chan_names)\n",
    "eeg_df = eeg_df.replace(r';', '', regex=True).astype(float)\n",
    "eeg_duration = int(len(eeg_df) / sr)\n",
    "\n",
    "expected_duration = sum(block['content'].get('duration') for block in experiment_seq.values())\n",
    "\n",
    "print(f\"Expected: \\t {expected_duration} sec. \\t {expected_duration / 60:.2f} min. \\nGot EEG: \\t {int(eeg_duration)} sec. \\t {eeg_duration / 60:.2f} min.\\nGot Eyetracker:  {eye_len} sec. \\t {eye_len / 60:.2f} min.\")\n"
   ]
  }
 ],
 "metadata": {
  "kernelspec": {
   "display_name": "Python 3 (ipykernel)",
   "language": "python",
   "name": "python3"
  },
  "language_info": {
   "codemirror_mode": {
    "name": "ipython",
    "version": 3
   },
   "file_extension": ".py",
   "mimetype": "text/x-python",
   "name": "python",
   "nbconvert_exporter": "python",
   "pygments_lexer": "ipython3",
   "version": "3.9.22"
  }
 },
 "nbformat": 4,
 "nbformat_minor": 5
}
